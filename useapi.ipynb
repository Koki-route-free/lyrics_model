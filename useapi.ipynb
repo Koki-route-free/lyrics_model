{
 "cells": [
  {
   "cell_type": "code",
   "execution_count": 1,
   "id": "08bcc1c6-925b-42c9-8189-57b7913e5aca",
   "metadata": {},
   "outputs": [],
   "source": [
    "#ライブラリインポート\n",
    "import pandas as pd\n",
    "import matplotlib.pyplot as plt\n",
    "import gensim\n",
    "from janome.tokenizer import Tokenizer\n",
    "from collections import defaultdict\n",
    "from gensim.models.keyedvectors import KeyedVectors\n",
    "from sklearn.cluster import KMeans\n",
    "from gensim.models import word2vec\n",
    "import numpy as np\n",
    "from sklearn.linear_model import LinearRegression\n",
    "import sys\n",
    "import joblib"
   ]
  },
  {
   "cell_type": "code",
   "execution_count": 37,
   "id": "82646623-3f5f-4886-8a4d-99500910b9cc",
   "metadata": {},
   "outputs": [],
   "source": [
    "# 集めた歌詞データを読み込む（別で取得）\n",
    "df_concat = pd.read_excel(\"usedata.xlsx\",engine=\"openpyxl\")\n",
    "df_concat = df_concat.drop(columns=\"Unnamed: 0\")\n",
    "df_concat = df_concat.sort_values(\"release_date\")\n",
    "# 1986年1月〜2023年8月\n",
    "lyrics_list = df_concat[\"lyrics\"][267:322393].tolist()\n",
    "release_date_list = df_concat[\"release_date\"][267:322393].tolist()"
   ]
  },
  {
   "cell_type": "code",
   "execution_count": 51,
   "id": "f56621ba-a90d-47d3-a124-ebb801c6f003",
   "metadata": {},
   "outputs": [],
   "source": [
    "songs_list_4sq = []\n",
    "for i in range(38):\n",
    "    a = []\n",
    "    for j in range(4):\n",
    "        a.append([])\n",
    "    songs_list_4sq.append(a)\n",
    "# 文字列が多すぎるため3次元配列として持てないので配列のインデックス番号で保持。\n",
    "for i, j in enumerate(release_date_list):\n",
    "    year = int(j[:4])\n",
    "    month = int(j[4:])\n",
    "    year_num = year - 1986\n",
    "    month_num = (month-1)//3\n",
    "    songs_list_4sq[year_num][month_num].append(i)"
   ]
  },
  {
   "cell_type": "code",
   "execution_count": 54,
   "id": "298786b1-c220-4bbd-982f-9ee9180815bf",
   "metadata": {},
   "outputs": [],
   "source": [
    "# モデル1データセット 1986〜2000年\n",
    "model1_songs_index = songs_list_4sq[:14]\n",
    "model1_songs_list = lyrics_list[:34296]\n",
    "# モデル2データセット 2000〜2023年\n",
    "model2_songs_index = songs_list_4sq[14:]\n",
    "model2_songs_list = lyrics_list[34296:]\n",
    "# モデル3データセット 1986〜2023年\n",
    "model3_songs_index = songs_list_4sq\n",
    "model3_songs_list = lyrics_list\n",
    "\n",
    "model1_text_file = 'model1_songs_word_lists.txt'\n",
    "model2_text_file = 'model2_songs_word_lists.txt'\n",
    "model3_text_file = 'model3_songs_word_lists.txt'"
   ]
  },
  {
   "cell_type": "code",
   "execution_count": 42,
   "id": "ee0660e0-9702-4bdb-8eea-5468d1470d74",
   "metadata": {},
   "outputs": [],
   "source": [
    "def data_processing(song_lyrics, text_file):\n",
    "    t = Tokenizer()\n",
    "    results = []\n",
    "    for s in song_lyrics:\n",
    "        tokens = t.tokenize(s)\n",
    "        r = []\n",
    "        for tok in tokens:\n",
    "            if tok.base_form == '*':\n",
    "                word = tok.surface\n",
    "            else:\n",
    "                word = tok.base_form\n",
    "            ps = tok.part_of_speech\n",
    "            hinshi = ps.split(',')[0]\n",
    "            if hinshi in ['名詞', '形容詞', '動詞', '副詞']:\n",
    "                r.append(word)\n",
    "        rl = (' '.join(r)).strip()\n",
    "        results.append(rl)\n",
    "    #余計な文字コードの置き換え\n",
    "    result = [i.replace('\\u3000','') for i in results]\n",
    "    with open(text_file, 'w', encoding='utf-8') as fp:\n",
    "        fp.write(\"\\n\".join(result))"
   ]
  },
  {
   "cell_type": "code",
   "execution_count": 79,
   "id": "ba0b51c2-9671-4972-b7db-e0f8b1b86184",
   "metadata": {},
   "outputs": [],
   "source": [
    "data_processing(model1_songs_list, model1_text_file)\n",
    "data_processing(model2_songs_list, model2_text_file)\n",
    "data_processing(model3_songs_list, model3_text_file)"
   ]
  },
  {
   "cell_type": "code",
   "execution_count": 57,
   "id": "d1adb01f-3485-4d89-9988-d37038cf1abe",
   "metadata": {},
   "outputs": [],
   "source": [
    "for i, j in enumerate(songs_list_4sq):\n",
    "    i = i + 1986\n",
    "    for k, l in enumerate(j):\n",
    "        k = k + 1\n",
    "        text_file_name = \"4sq_songs/\" + str(i) + str(k) + \"_songs_word_lists.txt\"\n",
    "        t = Tokenizer()\n",
    "        results = []\n",
    "        for s in l:\n",
    "            tokens = t.tokenize(lyrics_list[s])\n",
    "            r = []\n",
    "            for tok in tokens:\n",
    "                if tok.base_form == '*':\n",
    "                    word = tok.surface\n",
    "                else:\n",
    "                    word = tok.base_form\n",
    "                ps = tok.part_of_speech\n",
    "                hinshi = ps.split(',')[0]\n",
    "                if hinshi in ['名詞', '形容詞', '動詞', '副詞']:\n",
    "                    r.append(word)\n",
    "            rl = (' '.join(r)).strip()\n",
    "            results.append(rl)\n",
    "        #余計な文字コードの置き換え\n",
    "        result = [p.replace('\\u3000','') for p in results]\n",
    "        with open(text_file_name, 'w', encoding='utf-8') as fp:\n",
    "            fp.write(\"\\n\".join(result))"
   ]
  },
  {
   "cell_type": "code",
   "execution_count": 4,
   "id": "1551c1bb-5adf-4300-bf31-b1825655b006",
   "metadata": {},
   "outputs": [],
   "source": [
    "model1_save_bin = 'model1_save.bin'\n",
    "model2_save_bin = 'model2_save.bin'\n",
    "model3_save_bin = 'model3_save.bin'"
   ]
  },
  {
   "cell_type": "code",
   "execution_count": 4,
   "id": "2667863f-6933-4e10-9bdf-dbca7222835e",
   "metadata": {},
   "outputs": [],
   "source": [
    "def model_learning(text_file, save_bin):\n",
    "    sentences = word2vec.Text8Corpus(text_file)\n",
    "    model = word2vec.Word2Vec(sentences, size=200, window=10, hs=0, min_count=1, sg=1)\n",
    "    model.save(save_bin)"
   ]
  },
  {
   "cell_type": "code",
   "execution_count": 8,
   "id": "bb051685-84f8-4660-89a2-a40c2c28d583",
   "metadata": {},
   "outputs": [],
   "source": [
    "model_learning(model1_text_file, model1_save_bin)\n",
    "model_learning(model2_text_file, model2_save_bin)\n",
    "model_learning(model3_text_file, model3_save_bin)"
   ]
  },
  {
   "cell_type": "code",
   "execution_count": 45,
   "id": "d6799048-80d0-4910-9d37-73babea0fbb7",
   "metadata": {},
   "outputs": [],
   "source": [
    "# 1986年から2020年までを学習として2020年から2023年までをテストとする（乖離度の確認）\n",
    "def analyze(save_bin:str):\n",
    "    model = gensim.models.Word2Vec.load(save_bin)\n",
    "    commit = []\n",
    "    for i in range(34):\n",
    "        i = i + 1986\n",
    "        for j in range(4):\n",
    "            result = []\n",
    "            j = j + 1\n",
    "            text_name = '4sq_songs/' + str(i) + str(j) + '_songs_word_lists.txt'\n",
    "            f = open(text_name, 'r', encoding='UTF-8')\n",
    "            data = f.read()\n",
    "            for d in data:\n",
    "                try:\n",
    "                    r = model.wv.get_vector(d)\n",
    "                except:\n",
    "                    try:\n",
    "                        p = model.wv.most_similar(positive=[d][0][0])\n",
    "                        r = model.wv.get_vector(p)\n",
    "                    except:\n",
    "                        continue\n",
    "                result.append(r)\n",
    "            ans = []\n",
    "            for k in range(200):\n",
    "                sum_k = 0\n",
    "                for l in result:\n",
    "                    sum_k = sum_k + l[k]\n",
    "                sum_k = sum_k/len(result)\n",
    "                ans.append(sum_k)\n",
    "            commit.append(ans)\n",
    "    return commit"
   ]
  },
  {
   "cell_type": "code",
   "execution_count": 46,
   "id": "60ec8f24-f39c-4641-9309-2043cf289c82",
   "metadata": {},
   "outputs": [],
   "source": [
    "# 2023年は第二四半期まで\n",
    "def analyze_test(save_bin:str):\n",
    "    model = gensim.models.Word2Vec.load(save_bin)\n",
    "    commit = []\n",
    "    for i in range(4):\n",
    "        i = i + 2020\n",
    "        for j in range(4):\n",
    "            result = []\n",
    "            j = j + 1\n",
    "            if i == 2023 and j == 3:\n",
    "                return commit\n",
    "            text_name = '4sq_songs/' + str(i) + str(j) + '_songs_word_lists.txt'\n",
    "            f = open(text_name, 'r', encoding='UTF-8')\n",
    "            data = f.read()\n",
    "            for d in data:\n",
    "                try:\n",
    "                    r = model.wv.get_vector(d)\n",
    "                except:\n",
    "                    try:\n",
    "                        p = model.wv.most_similar(positive=[d][0][0])\n",
    "                        r = model.wv.get_vector(p)\n",
    "                    except:\n",
    "                        continue\n",
    "                result.append(r)\n",
    "            ans = []\n",
    "            for k in range(200):\n",
    "                sum_k = 0\n",
    "                for l in result:\n",
    "                    sum_k = sum_k + l[k]\n",
    "                sum_k = sum_k/len(result)\n",
    "                ans.append(sum_k)\n",
    "            commit.append(ans)"
   ]
  },
  {
   "cell_type": "code",
   "execution_count": 49,
   "id": "4431d012-3314-488e-be87-3d61262ee70d",
   "metadata": {},
   "outputs": [],
   "source": [
    "model1_explain = analyze(model1_save_bin)\n",
    "model2_explain = analyze(model2_save_bin)\n",
    "model3_explain = analyze(model3_save_bin)"
   ]
  },
  {
   "cell_type": "code",
   "execution_count": 50,
   "id": "bfeb94aa-ab53-4bc0-8ec9-2083f85bffd1",
   "metadata": {},
   "outputs": [],
   "source": [
    "model1_explain_test = analyze_test(model1_save_bin)\n",
    "model2_explain_test = analyze_test(model2_save_bin)\n",
    "model3_explain_test = analyze_test(model3_save_bin)"
   ]
  },
  {
   "cell_type": "code",
   "execution_count": 84,
   "id": "700ecf0c-cbad-4344-bb62-491a6f9f9372",
   "metadata": {},
   "outputs": [
    {
     "data": {
      "text/plain": [
       "['model3_explain_test.txt']"
      ]
     },
     "execution_count": 84,
     "metadata": {},
     "output_type": "execute_result"
    }
   ],
   "source": [
    "joblib.dump(model1_explain, \"model1_explain.txt\",compress=3)\n",
    "joblib.dump(model2_explain, \"model2_explain.txt\",compress=3)\n",
    "joblib.dump(model3_explain, \"model3_explain.txt\",compress=3)\n",
    "joblib.dump(model1_explain_test, \"model1_explain_test.txt\",compress=3)\n",
    "joblib.dump(model2_explain_test, \"model2_explain_test.txt\",compress=3)\n",
    "joblib.dump(model3_explain_test, \"model3_explain_test.txt\",compress=3)"
   ]
  },
  {
   "cell_type": "code",
   "execution_count": 2,
   "id": "7fd0a335-f962-4cfb-ac5f-33362dcd9374",
   "metadata": {},
   "outputs": [],
   "source": [
    "model1_explain = joblib.load(\"model1_explain.txt\")\n",
    "model2_explain = joblib.load(\"model2_explain.txt\")\n",
    "model3_explain = joblib.load(\"model3_explain.txt\")\n",
    "model1_explain_test = joblib.load(\"model1_explain_test.txt\")\n",
    "model2_explain_test = joblib.load(\"model2_explain_test.txt\")\n",
    "model3_explain_test = joblib.load(\"model3_explain_test.txt\")"
   ]
  },
  {
   "cell_type": "code",
   "execution_count": 4,
   "id": "6c4ae21d-f90f-407f-aa17-95a6089f04d7",
   "metadata": {},
   "outputs": [],
   "source": [
    "# 日本CPI\n",
    "df_cpi = pd.read_excel(\"purpose_data/cpi.xlsx\", engine=\"openpyxl\", index_col=0)\n",
    "# 年月日\n",
    "cpi_year = df_cpi[\"Unnamed: 8\"][13:655]\n",
    "# 値\n",
    "cpi_value = df_cpi.iloc[13:655,12]"
   ]
  },
  {
   "cell_type": "code",
   "execution_count": 5,
   "id": "828cc3c7-54a3-473f-a75b-7303e8bd8daf",
   "metadata": {},
   "outputs": [],
   "source": [
    "# 1986年第1四半期〜2023年第2四半期\n",
    "cpi_4sq_value = []\n",
    "for i, j in enumerate(cpi_year[192:]):\n",
    "    if i%3 == 0:\n",
    "        a = cpi_value[192+i]\n",
    "    elif i%3 == 1:\n",
    "        a += cpi_value[192+i]\n",
    "    else:\n",
    "        a += cpi_value[192+i]\n",
    "        a = a/3\n",
    "        cpi_4sq_value.append(a)"
   ]
  },
  {
   "cell_type": "code",
   "execution_count": 6,
   "id": "f5cdda12-2a13-45bd-80dc-3fff66e102d0",
   "metadata": {},
   "outputs": [],
   "source": [
    "# 1986~2020\n",
    "cpi_1986_2020 = cpi_4sq_value[:136]\n",
    "cpi_2020_2023 = cpi_4sq_value[136:]"
   ]
  },
  {
   "cell_type": "code",
   "execution_count": 7,
   "id": "5c223398-6f75-481b-9639-326f07e675d1",
   "metadata": {},
   "outputs": [],
   "source": [
    "# 日本経済指標(CI値)\n",
    "# 1985年から月ベースでの調査\n",
    "df_japan_index = pd.read_excel(\"purpose_data/economy_index.xlsx\", engine=\"openpyxl\", index_col=0)\n",
    "# 年\n",
    "japan_index_year = df_japan_index[\"Unnamed: 1\"][77:527]\n",
    "# 月\n",
    "japan_index_month = df_japan_index[\"Unnamed: 2\"][77:527]\n",
    "# 値\n",
    "japan_index_value = df_japan_index[\"ＣＩ指数\"][77:527].tolist()"
   ]
  },
  {
   "cell_type": "code",
   "execution_count": 8,
   "id": "84491e86-afdb-426c-9dbc-5225b1dda387",
   "metadata": {},
   "outputs": [],
   "source": [
    "# 1986年第1四半期〜2023年第2四半期\n",
    "japan_index_4sq_value = []\n",
    "for i, j in enumerate(japan_index_value):\n",
    "    if i%3 == 0:\n",
    "        a = j\n",
    "    elif i%3 == 1:\n",
    "        a += j\n",
    "    else:\n",
    "        a += j\n",
    "        a = a/3\n",
    "        japan_index_4sq_value.append(a)"
   ]
  },
  {
   "cell_type": "code",
   "execution_count": 9,
   "id": "5debe145-72a6-4b93-b630-c6b2693cde59",
   "metadata": {},
   "outputs": [],
   "source": [
    "ci_1986_2020 = japan_index_4sq_value[:136]\n",
    "ci_2020_2023 = japan_index_4sq_value[136:]"
   ]
  },
  {
   "cell_type": "code",
   "execution_count": 10,
   "id": "522ea692-a7ac-4820-82fc-670ddb0f1e39",
   "metadata": {},
   "outputs": [],
   "source": [
    "# 日本GDP\n",
    "df_gdp = pd.read_excel(\"purpose_data/GDP_4sq.xlsx\", engine=\"openpyxl\")\n",
    "# 年四半期\n",
    "gdp_4sq = df_gdp[\"name1\"][7:124]\n",
    "# 値\n",
    "gdp_4sq_value = df_gdp[\"name2\"][7:124]\n",
    "gdp_list = []\n",
    "for p in gdp_4sq_value:\n",
    "    gdp_list.append(p)"
   ]
  },
  {
   "cell_type": "code",
   "execution_count": 11,
   "id": "1508419b-6f3f-48d6-948d-482e06a2d2eb",
   "metadata": {},
   "outputs": [],
   "source": [
    "gdp_4sq_1994_2020 = gdp_list[:104]\n",
    "gdp_4sq_2020_2023 = gdp_list[104:]"
   ]
  },
  {
   "cell_type": "markdown",
   "id": "b2efae95-7873-4ddb-be61-1ba1ca1c53c2",
   "metadata": {},
   "source": [
    "## 重回帰分析"
   ]
  },
  {
   "cell_type": "code",
   "execution_count": 94,
   "id": "4cfffc7d-656d-4220-8baf-cc91b55140ec",
   "metadata": {},
   "outputs": [],
   "source": [
    "# モデル別に実装していく\n",
    "value_list = model3_explain[32:]\n",
    "value_list_T = np.array(value_list).T\n",
    "\n",
    "# 目的変数となるものを指定して実装していく\n",
    "y = gdp_4sq_1994_2020"
   ]
  },
  {
   "cell_type": "code",
   "execution_count": 95,
   "id": "7826dd11-c448-4e38-ad7f-4bcfaa69ee91",
   "metadata": {},
   "outputs": [],
   "source": [
    "# 正規化\n",
    "# 標準化\n",
    "# 最大最小はすでに決まっているので標準化のみ\n",
    "std_value_list_T = []\n",
    "for i in value_list_T:\n",
    "    a = (i-i.mean())/i.std(ddof=0)\n",
    "    std_value_list_T.append(a)"
   ]
  },
  {
   "cell_type": "code",
   "execution_count": 96,
   "id": "7f662a9b-44c5-48b2-bcf1-291597aa41e6",
   "metadata": {},
   "outputs": [
    {
     "data": {
      "text/plain": [
       "LinearRegression()"
      ]
     },
     "execution_count": 96,
     "metadata": {},
     "output_type": "execute_result"
    }
   ],
   "source": [
    "model_lr_std = LinearRegression()\n",
    "x = np.array(std_value_list_T).T\n",
    "model_lr_std.fit(x, y)\n",
    "# print(model_lr_std.coef_)\n",
    "# print(model_lr_std.intercept_) \n",
    "# print(model_lr_std.score(x, y))"
   ]
  },
  {
   "cell_type": "code",
   "execution_count": 97,
   "id": "c1c6a155-4f6b-49b0-812d-bb0cfedb4394",
   "metadata": {},
   "outputs": [],
   "source": [
    "# テストモデルの実装\n",
    "# ここも対応するテストに応じて変更して実装していく\n",
    "test_result = []\n",
    "for i in model3_explain_test[:-1]:\n",
    "    a = 0\n",
    "    for p in range(200):\n",
    "        a += i[p]*model_lr_std.coef_[p]\n",
    "    a += model_lr_std.intercept_\n",
    "    test_result.append(a)"
   ]
  },
  {
   "cell_type": "code",
   "execution_count": 98,
   "id": "a58dbf8b-ce99-4d96-b697-98df4cc38230",
   "metadata": {},
   "outputs": [],
   "source": [
    "deviation = []\n",
    "for i,j in enumerate(test_result):\n",
    "    deviation.append(gdp_4sq_2020_2023[i]-j)"
   ]
  },
  {
   "cell_type": "code",
   "execution_count": 99,
   "id": "bd76cdfb-bb4b-4f46-bb71-327cdf541032",
   "metadata": {},
   "outputs": [
    {
     "data": {
      "text/plain": [
       "[4808.6168024968065,\n",
       " -6238.309835508859,\n",
       " -1689.7084443637868,\n",
       " 10396.448295799346,\n",
       " 3191.194622056297,\n",
       " 2764.1955705721048,\n",
       " 291.76371169951744,\n",
       " 11038.964048447378,\n",
       " 4427.972447120206,\n",
       " 4800.024070856365,\n",
       " 1907.1823786955792,\n",
       " 13303.324628000206,\n",
       " 9803.104250009754]"
      ]
     },
     "execution_count": 99,
     "metadata": {},
     "output_type": "execute_result"
    }
   ],
   "source": [
    "deviation"
   ]
  },
  {
   "cell_type": "code",
   "execution_count": 100,
   "id": "10297881-f13c-46ef-ade5-eccda300086f",
   "metadata": {},
   "outputs": [],
   "source": [
    "result = []\n",
    "for i in model_lr_std.coef_.tolist():\n",
    "    result.append(round(i, 5))"
   ]
  },
  {
   "cell_type": "code",
   "execution_count": 101,
   "id": "88031013-a14b-47ec-8993-0084aaab3697",
   "metadata": {},
   "outputs": [
    {
     "data": {
      "text/plain": [
       "[2177.29428,\n",
       " 2288.55286,\n",
       " -2933.23373,\n",
       " -1881.71315,\n",
       " 2484.7671,\n",
       " -10059.22943,\n",
       " -1059.28857,\n",
       " -138.23649,\n",
       " 6460.15915,\n",
       " 1420.47938,\n",
       " -4576.51039,\n",
       " -2613.80593,\n",
       " -591.80417,\n",
       " -4776.57951,\n",
       " 528.07046,\n",
       " -5962.30227,\n",
       " 8496.07597,\n",
       " 4314.24381,\n",
       " -1233.11173,\n",
       " 9989.11574,\n",
       " -2888.51874,\n",
       " 6394.51973,\n",
       " -2572.41079,\n",
       " 6814.60768,\n",
       " -1053.85117,\n",
       " 3204.35052,\n",
       " -361.59339,\n",
       " -1331.51017,\n",
       " -4402.69813,\n",
       " -272.17946,\n",
       " -391.48958,\n",
       " -2424.54671,\n",
       " -4083.73266,\n",
       " -1071.41555,\n",
       " 2143.63742,\n",
       " -6613.82086,\n",
       " -2706.75166,\n",
       " -8361.81806,\n",
       " 9555.00498,\n",
       " -6758.28267,\n",
       " -5416.27653,\n",
       " 3285.95561,\n",
       " 7046.05022,\n",
       " 7340.31738,\n",
       " 5268.92475,\n",
       " -15440.35491,\n",
       " -4526.83249,\n",
       " -1387.23028,\n",
       " -1628.26653,\n",
       " 11734.3552,\n",
       " -4811.57853,\n",
       " -1613.76842,\n",
       " 957.38543,\n",
       " 947.90634,\n",
       " -4275.53251,\n",
       " 4054.29357,\n",
       " -422.67089,\n",
       " -167.85392,\n",
       " 5234.02719,\n",
       " -1855.90509,\n",
       " 1883.3105,\n",
       " 305.74681,\n",
       " 2846.60097,\n",
       " 4237.82149,\n",
       " 915.15342,\n",
       " -558.76465,\n",
       " -2522.14514,\n",
       " 1088.64837,\n",
       " -3515.09007,\n",
       " -4773.31256,\n",
       " 4466.23797,\n",
       " -2921.48411,\n",
       " -2624.1381,\n",
       " 5211.74674,\n",
       " 1109.30012,\n",
       " 14339.95709,\n",
       " 1767.43429,\n",
       " -5307.74603,\n",
       " 6674.72345,\n",
       " -1520.32931,\n",
       " -1485.11986,\n",
       " 4751.69674,\n",
       " 7192.42443,\n",
       " 690.3837,\n",
       " 6063.64206,\n",
       " 3543.15513,\n",
       " -3627.23917,\n",
       " -4471.26336,\n",
       " -4251.17423,\n",
       " -3257.55041,\n",
       " 5405.7263,\n",
       " -1246.1197,\n",
       " 452.24686,\n",
       " -2038.0554,\n",
       " 1629.35382,\n",
       " -2584.37695,\n",
       " 9834.41772,\n",
       " -7555.0382,\n",
       " 883.55816,\n",
       " -975.72588,\n",
       " -496.26527,\n",
       " 6390.92246,\n",
       " 564.67777,\n",
       " 5478.55162,\n",
       " -3086.97731,\n",
       " 7247.04486,\n",
       " 598.97601,\n",
       " -8625.13381,\n",
       " 6897.32272,\n",
       " -2098.41922,\n",
       " -11992.46968,\n",
       " -6055.18127,\n",
       " 833.60685,\n",
       " -5370.01936,\n",
       " 5564.74739,\n",
       " 1515.59457,\n",
       " -3488.93306,\n",
       " 3880.40312,\n",
       " 2904.93461,\n",
       " 558.8616,\n",
       " 3161.30883,\n",
       " 4197.65279,\n",
       " 675.91492,\n",
       " 2145.35779,\n",
       " -5630.89565,\n",
       " -3515.25702,\n",
       " 258.4182,\n",
       " 1519.52138,\n",
       " 11358.36081,\n",
       " 643.33871,\n",
       " 4377.71331,\n",
       " 4985.96538,\n",
       " 6565.71422,\n",
       " 2706.73645,\n",
       " 4817.8735,\n",
       " -2711.055,\n",
       " 4420.1006,\n",
       " -5601.46241,\n",
       " 5280.35358,\n",
       " -813.27157,\n",
       " 3221.84133,\n",
       " -1897.02325,\n",
       " 8893.17585,\n",
       " -2561.17736,\n",
       " -1268.48509,\n",
       " -3912.76369,\n",
       " 2378.10631,\n",
       " 1134.91995,\n",
       " 4994.61706,\n",
       " -2742.4226,\n",
       " 3443.22262,\n",
       " -9745.69971,\n",
       " -1281.81116,\n",
       " 2680.6949,\n",
       " -2442.47657,\n",
       " 7062.92136,\n",
       " -4911.66246,\n",
       " 902.55302,\n",
       " 3158.91117,\n",
       " 9074.64686,\n",
       " -645.35852,\n",
       " 7485.29851,\n",
       " -5058.89213,\n",
       " -6104.69766,\n",
       " 5717.81589,\n",
       " 742.0376,\n",
       " -5436.53438,\n",
       " 9074.85727,\n",
       " -2492.44506,\n",
       " 2923.25983,\n",
       " -2913.02649,\n",
       " 3489.08266,\n",
       " 8245.2376,\n",
       " 12101.30435,\n",
       " 5817.21966,\n",
       " 6731.52583,\n",
       " 10754.46295,\n",
       " 11482.21147,\n",
       " -4565.00364,\n",
       " -2131.41905,\n",
       " 1847.51005,\n",
       " -1453.97654,\n",
       " -1862.26304,\n",
       " -5206.38558,\n",
       " -6981.26178,\n",
       " 2389.46055,\n",
       " -1924.2686,\n",
       " -3849.46746,\n",
       " -5473.15065,\n",
       " 9787.46461,\n",
       " -870.77495,\n",
       " -8795.40018,\n",
       " -2429.1221,\n",
       " -848.24844,\n",
       " -2945.74317,\n",
       " 4608.39208,\n",
       " 3125.79239,\n",
       " 6394.16723,\n",
       " 3111.15917,\n",
       " -5283.43847]"
      ]
     },
     "execution_count": 101,
     "metadata": {},
     "output_type": "execute_result"
    }
   ],
   "source": [
    "result"
   ]
  },
  {
   "cell_type": "code",
   "execution_count": null,
   "id": "1a042294-e6f2-4195-8ddf-5c79c7464130",
   "metadata": {},
   "outputs": [],
   "source": []
  },
  {
   "cell_type": "code",
   "execution_count": null,
   "id": "f4ea542c-ea33-4395-9bdc-0115d195b06a",
   "metadata": {},
   "outputs": [],
   "source": []
  }
 ],
 "metadata": {
  "kernelspec": {
   "display_name": "Python 3",
   "language": "python",
   "name": "python3"
  },
  "language_info": {
   "codemirror_mode": {
    "name": "ipython",
    "version": 3
   },
   "file_extension": ".py",
   "mimetype": "text/x-python",
   "name": "python",
   "nbconvert_exporter": "python",
   "pygments_lexer": "ipython3",
   "version": "3.6.13"
  }
 },
 "nbformat": 4,
 "nbformat_minor": 5
}
