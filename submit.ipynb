{
 "cells": [
  {
   "cell_type": "code",
   "execution_count": 48,
   "id": "08bcc1c6-925b-42c9-8189-57b7913e5aca",
   "metadata": {},
   "outputs": [],
   "source": [
    "#ライブラリインポート\n",
    "import requests\n",
    "from bs4 import BeautifulSoup\n",
    "import pandas as pd\n",
    "from datetime import datetime\n",
    "import datetime\n",
    "import time\n",
    "import re\n",
    "import lxml\n",
    "import matplotlib.pyplot as plt\n",
    "import gensim"
   ]
  },
  {
   "cell_type": "code",
   "execution_count": 88,
   "id": "ca4f74d0-3474-40f7-a613-34d7844a0440",
   "metadata": {},
   "outputs": [],
   "source": [
    "#Uta-Net先頭URL\n",
    "base_url = 'https://www.uta-net.com'\n",
    "#歌詞一覧ページURL\n",
    "artist_url = '/artist/'\n",
    "all_song_list = []"
   ]
  },
  {
   "cell_type": "code",
   "execution_count": 89,
   "id": "c46009ec-b93f-4583-a107-f088a09c4bf5",
   "metadata": {},
   "outputs": [],
   "source": [
    "# 34700まであるっぽい 1m/20\n",
    "for i in range(34700):\n",
    "    artist_number = str(i) + \"/\"\n",
    "    url = base_url + artist_url + artist_number\n",
    "    #歌詞一覧ページの取得\n",
    "    try:\n",
    "        response = requests.get(url)\n",
    "        soup = BeautifulSoup(response.text, 'lxml')\n",
    "        links = soup.find_all('td', class_='sp-w-100 pt-0 pt-lg-2')\n",
    "        for link in links:\n",
    "            a = base_url + (link.a.get('href'))\n",
    "            all_song_list.append(a)\n",
    "    except:\n",
    "        print(i)\n",
    "        continue"
   ]
  },
  {
   "cell_type": "code",
   "execution_count": 168,
   "id": "6ea09d0c-93e2-4bf5-8319-209e75f044da",
   "metadata": {},
   "outputs": [
    {
     "data": {
      "text/plain": [
       "325723"
      ]
     },
     "execution_count": 168,
     "metadata": {},
     "output_type": "execute_result"
    }
   ],
   "source": [
    "len(all_song_list)"
   ]
  },
  {
   "cell_type": "code",
   "execution_count": 174,
   "id": "14881cf5-cf57-4ec2-9986-ac221e5866de",
   "metadata": {},
   "outputs": [],
   "source": [
    "#取得したデータを格納するデータフレームを作成\n",
    "songs_df = pd.DataFrame(columns=['song_name','lyrics','release_date','impression'])"
   ]
  },
  {
   "cell_type": "code",
   "execution_count": 187,
   "id": "182dc10b-c05b-414f-8445-5030789b45a4",
   "metadata": {},
   "outputs": [],
   "source": [
    "for a in all_song_list[283276:]:\n",
    "    #歌詞ページよりHTMLを取得\n",
    "    response_a = requests.get(a)\n",
    "    soup_a = BeautifulSoup(response_a.text, 'lxml')\n",
    "    #曲名取得\n",
    "    try:\n",
    "        song_name = soup_a.find('h2').text\n",
    "    except:\n",
    "        song_name = None\n",
    "    #歌詞取得\n",
    "    try:\n",
    "        song_lyric = soup_a.find('div', itemprop='lyrics').text.replace('\\n','').replace(\"\\u3000\", \"\").replace(\"この歌詞をマイ歌ネットに登録\\xa0>このアーティストをマイ歌ネットに登録\\xa0>\", \"\")\n",
    "    except:\n",
    "        song_lyric = None\n",
    "    #発売日取得\n",
    "    try:\n",
    "        detail = soup_a.find('p', class_='detail').text\n",
    "        match = re.search(r'\\d{4}/\\d{2}/\\d{2}', detail)\n",
    "        release_date = datetime.datetime.strptime(match.group(), '%Y/%m/%d').date()\n",
    "    except:\n",
    "        release_date = None\n",
    "    #表示回数を取得\n",
    "    try:\n",
    "        p = r'この曲の表示回数：(.*)回'\n",
    "        impression = re.search(p, detail).group(1)\n",
    "    except:\n",
    "        impression = None\n",
    "    #取得したデータフレームに追加\n",
    "    temp_df = pd.DataFrame([[song_name], [song_lyric], [release_date], [impression]], index=songs_df.columns).T\n",
    "    songs_df = songs_df.append(temp_df, ignore_index=True)\n",
    "    #1秒待機\n",
    "    time.sleep(2)"
   ]
  },
  {
   "cell_type": "code",
   "execution_count": 94,
   "id": "e254a7a9-fbd9-45e7-a2b8-56078e00eaf5",
   "metadata": {},
   "outputs": [
    {
     "name": "stdout",
     "output_type": "stream",
     "text": [
      "None\n"
     ]
    }
   ],
   "source": [
    "print(match)\n",
    "283275"
   ]
  },
  {
   "cell_type": "code",
   "execution_count": 173,
   "id": "013c5791-7278-4cf3-97c5-f3238d839b19",
   "metadata": {},
   "outputs": [
    {
     "data": {
      "text/plain": [
       "'https://www.uta-net.com/song/290768/'"
      ]
     },
     "execution_count": 173,
     "metadata": {},
     "output_type": "execute_result"
    }
   ],
   "source": [
    "all_song_list[]"
   ]
  },
  {
   "cell_type": "code",
   "execution_count": 189,
   "id": "51c45468-b3b2-4c0f-84f8-100d9a4fee4a",
   "metadata": {},
   "outputs": [],
   "source": [
    "songs_df.to_excel(\"songs5.xlsx\")"
   ]
  },
  {
   "cell_type": "code",
   "execution_count": 5,
   "id": "704c5fd7-301b-4876-9952-5d06ee2964d6",
   "metadata": {},
   "outputs": [
    {
     "ename": "FileNotFoundError",
     "evalue": "[Errno 2] No such file or directory: 'songs1.xlsx'",
     "output_type": "error",
     "traceback": [
      "\u001b[0;31m---------------------------------------------------------------------------\u001b[0m",
      "\u001b[0;31mFileNotFoundError\u001b[0m                         Traceback (most recent call last)",
      "\u001b[0;32m<ipython-input-5-402d3632a1b6>\u001b[0m in \u001b[0;36m<module>\u001b[0;34m\u001b[0m\n\u001b[0;32m----> 1\u001b[0;31m \u001b[0mdf1\u001b[0m \u001b[0;34m=\u001b[0m \u001b[0mpd\u001b[0m\u001b[0;34m.\u001b[0m\u001b[0mread_excel\u001b[0m\u001b[0;34m(\u001b[0m\u001b[0;34m\"songs1.xlsx\"\u001b[0m\u001b[0;34m)\u001b[0m\u001b[0;34m\u001b[0m\u001b[0;34m\u001b[0m\u001b[0m\n\u001b[0m\u001b[1;32m      2\u001b[0m \u001b[0mdf2\u001b[0m \u001b[0;34m=\u001b[0m \u001b[0mpd\u001b[0m\u001b[0;34m.\u001b[0m\u001b[0mread_excel\u001b[0m\u001b[0;34m(\u001b[0m\u001b[0;34m\"songs2.xlsx\"\u001b[0m\u001b[0;34m)\u001b[0m\u001b[0;34m\u001b[0m\u001b[0;34m\u001b[0m\u001b[0m\n\u001b[1;32m      3\u001b[0m \u001b[0mdf3\u001b[0m \u001b[0;34m=\u001b[0m \u001b[0mpd\u001b[0m\u001b[0;34m.\u001b[0m\u001b[0mread_excel\u001b[0m\u001b[0;34m(\u001b[0m\u001b[0;34m\"songs3.xlsx\"\u001b[0m\u001b[0;34m)\u001b[0m\u001b[0;34m\u001b[0m\u001b[0;34m\u001b[0m\u001b[0m\n\u001b[1;32m      4\u001b[0m \u001b[0mdf4\u001b[0m \u001b[0;34m=\u001b[0m \u001b[0mpd\u001b[0m\u001b[0;34m.\u001b[0m\u001b[0mread_excel\u001b[0m\u001b[0;34m(\u001b[0m\u001b[0;34m\"songs4.xlsx\"\u001b[0m\u001b[0;34m)\u001b[0m\u001b[0;34m\u001b[0m\u001b[0;34m\u001b[0m\u001b[0m\n\u001b[1;32m      5\u001b[0m \u001b[0mdf5\u001b[0m \u001b[0;34m=\u001b[0m \u001b[0mpd\u001b[0m\u001b[0;34m.\u001b[0m\u001b[0mread_excel\u001b[0m\u001b[0;34m(\u001b[0m\u001b[0;34m\"songs5.xlsx\"\u001b[0m\u001b[0;34m)\u001b[0m\u001b[0;34m\u001b[0m\u001b[0;34m\u001b[0m\u001b[0m\n",
      "\u001b[0;32m~/opt/anaconda3/lib/python3.8/site-packages/pandas/util/_decorators.py\u001b[0m in \u001b[0;36mwrapper\u001b[0;34m(*args, **kwargs)\u001b[0m\n\u001b[1;32m    297\u001b[0m                 )\n\u001b[1;32m    298\u001b[0m                 \u001b[0mwarnings\u001b[0m\u001b[0;34m.\u001b[0m\u001b[0mwarn\u001b[0m\u001b[0;34m(\u001b[0m\u001b[0mmsg\u001b[0m\u001b[0;34m,\u001b[0m \u001b[0mFutureWarning\u001b[0m\u001b[0;34m,\u001b[0m \u001b[0mstacklevel\u001b[0m\u001b[0;34m=\u001b[0m\u001b[0mstacklevel\u001b[0m\u001b[0;34m)\u001b[0m\u001b[0;34m\u001b[0m\u001b[0;34m\u001b[0m\u001b[0m\n\u001b[0;32m--> 299\u001b[0;31m             \u001b[0;32mreturn\u001b[0m \u001b[0mfunc\u001b[0m\u001b[0;34m(\u001b[0m\u001b[0;34m*\u001b[0m\u001b[0margs\u001b[0m\u001b[0;34m,\u001b[0m \u001b[0;34m**\u001b[0m\u001b[0mkwargs\u001b[0m\u001b[0;34m)\u001b[0m\u001b[0;34m\u001b[0m\u001b[0;34m\u001b[0m\u001b[0m\n\u001b[0m\u001b[1;32m    300\u001b[0m \u001b[0;34m\u001b[0m\u001b[0m\n\u001b[1;32m    301\u001b[0m         \u001b[0;32mreturn\u001b[0m \u001b[0mwrapper\u001b[0m\u001b[0;34m\u001b[0m\u001b[0;34m\u001b[0m\u001b[0m\n",
      "\u001b[0;32m~/opt/anaconda3/lib/python3.8/site-packages/pandas/io/excel/_base.py\u001b[0m in \u001b[0;36mread_excel\u001b[0;34m(io, sheet_name, header, names, index_col, usecols, squeeze, dtype, engine, converters, true_values, false_values, skiprows, nrows, na_values, keep_default_na, na_filter, verbose, parse_dates, date_parser, thousands, comment, skipfooter, convert_float, mangle_dupe_cols, storage_options)\u001b[0m\n\u001b[1;32m    334\u001b[0m     \u001b[0;32mif\u001b[0m \u001b[0;32mnot\u001b[0m \u001b[0misinstance\u001b[0m\u001b[0;34m(\u001b[0m\u001b[0mio\u001b[0m\u001b[0;34m,\u001b[0m \u001b[0mExcelFile\u001b[0m\u001b[0;34m)\u001b[0m\u001b[0;34m:\u001b[0m\u001b[0;34m\u001b[0m\u001b[0;34m\u001b[0m\u001b[0m\n\u001b[1;32m    335\u001b[0m         \u001b[0mshould_close\u001b[0m \u001b[0;34m=\u001b[0m \u001b[0;32mTrue\u001b[0m\u001b[0;34m\u001b[0m\u001b[0;34m\u001b[0m\u001b[0m\n\u001b[0;32m--> 336\u001b[0;31m         \u001b[0mio\u001b[0m \u001b[0;34m=\u001b[0m \u001b[0mExcelFile\u001b[0m\u001b[0;34m(\u001b[0m\u001b[0mio\u001b[0m\u001b[0;34m,\u001b[0m \u001b[0mstorage_options\u001b[0m\u001b[0;34m=\u001b[0m\u001b[0mstorage_options\u001b[0m\u001b[0;34m,\u001b[0m \u001b[0mengine\u001b[0m\u001b[0;34m=\u001b[0m\u001b[0mengine\u001b[0m\u001b[0;34m)\u001b[0m\u001b[0;34m\u001b[0m\u001b[0;34m\u001b[0m\u001b[0m\n\u001b[0m\u001b[1;32m    337\u001b[0m     \u001b[0;32melif\u001b[0m \u001b[0mengine\u001b[0m \u001b[0;32mand\u001b[0m \u001b[0mengine\u001b[0m \u001b[0;34m!=\u001b[0m \u001b[0mio\u001b[0m\u001b[0;34m.\u001b[0m\u001b[0mengine\u001b[0m\u001b[0;34m:\u001b[0m\u001b[0;34m\u001b[0m\u001b[0;34m\u001b[0m\u001b[0m\n\u001b[1;32m    338\u001b[0m         raise ValueError(\n",
      "\u001b[0;32m~/opt/anaconda3/lib/python3.8/site-packages/pandas/io/excel/_base.py\u001b[0m in \u001b[0;36m__init__\u001b[0;34m(self, path_or_buffer, engine, storage_options)\u001b[0m\n\u001b[1;32m   1069\u001b[0m                 \u001b[0mext\u001b[0m \u001b[0;34m=\u001b[0m \u001b[0;34m\"xls\"\u001b[0m\u001b[0;34m\u001b[0m\u001b[0;34m\u001b[0m\u001b[0m\n\u001b[1;32m   1070\u001b[0m             \u001b[0;32melse\u001b[0m\u001b[0;34m:\u001b[0m\u001b[0;34m\u001b[0m\u001b[0;34m\u001b[0m\u001b[0m\n\u001b[0;32m-> 1071\u001b[0;31m                 ext = inspect_excel_format(\n\u001b[0m\u001b[1;32m   1072\u001b[0m                     \u001b[0mcontent\u001b[0m\u001b[0;34m=\u001b[0m\u001b[0mpath_or_buffer\u001b[0m\u001b[0;34m,\u001b[0m \u001b[0mstorage_options\u001b[0m\u001b[0;34m=\u001b[0m\u001b[0mstorage_options\u001b[0m\u001b[0;34m\u001b[0m\u001b[0;34m\u001b[0m\u001b[0m\n\u001b[1;32m   1073\u001b[0m                 )\n",
      "\u001b[0;32m~/opt/anaconda3/lib/python3.8/site-packages/pandas/io/excel/_base.py\u001b[0m in \u001b[0;36minspect_excel_format\u001b[0;34m(path, content, storage_options)\u001b[0m\n\u001b[1;32m    947\u001b[0m     \u001b[0;32massert\u001b[0m \u001b[0mcontent_or_path\u001b[0m \u001b[0;32mis\u001b[0m \u001b[0;32mnot\u001b[0m \u001b[0;32mNone\u001b[0m\u001b[0;34m\u001b[0m\u001b[0;34m\u001b[0m\u001b[0m\n\u001b[1;32m    948\u001b[0m \u001b[0;34m\u001b[0m\u001b[0m\n\u001b[0;32m--> 949\u001b[0;31m     with get_handle(\n\u001b[0m\u001b[1;32m    950\u001b[0m         \u001b[0mcontent_or_path\u001b[0m\u001b[0;34m,\u001b[0m \u001b[0;34m\"rb\"\u001b[0m\u001b[0;34m,\u001b[0m \u001b[0mstorage_options\u001b[0m\u001b[0;34m=\u001b[0m\u001b[0mstorage_options\u001b[0m\u001b[0;34m,\u001b[0m \u001b[0mis_text\u001b[0m\u001b[0;34m=\u001b[0m\u001b[0;32mFalse\u001b[0m\u001b[0;34m\u001b[0m\u001b[0;34m\u001b[0m\u001b[0m\n\u001b[1;32m    951\u001b[0m     ) as handle:\n",
      "\u001b[0;32m~/opt/anaconda3/lib/python3.8/site-packages/pandas/io/common.py\u001b[0m in \u001b[0;36mget_handle\u001b[0;34m(path_or_buf, mode, encoding, compression, memory_map, is_text, errors, storage_options)\u001b[0m\n\u001b[1;32m    649\u001b[0m         \u001b[0;32melse\u001b[0m\u001b[0;34m:\u001b[0m\u001b[0;34m\u001b[0m\u001b[0;34m\u001b[0m\u001b[0m\n\u001b[1;32m    650\u001b[0m             \u001b[0;31m# Binary mode\u001b[0m\u001b[0;34m\u001b[0m\u001b[0;34m\u001b[0m\u001b[0;34m\u001b[0m\u001b[0m\n\u001b[0;32m--> 651\u001b[0;31m             \u001b[0mhandle\u001b[0m \u001b[0;34m=\u001b[0m \u001b[0mopen\u001b[0m\u001b[0;34m(\u001b[0m\u001b[0mhandle\u001b[0m\u001b[0;34m,\u001b[0m \u001b[0mioargs\u001b[0m\u001b[0;34m.\u001b[0m\u001b[0mmode\u001b[0m\u001b[0;34m)\u001b[0m\u001b[0;34m\u001b[0m\u001b[0;34m\u001b[0m\u001b[0m\n\u001b[0m\u001b[1;32m    652\u001b[0m         \u001b[0mhandles\u001b[0m\u001b[0;34m.\u001b[0m\u001b[0mappend\u001b[0m\u001b[0;34m(\u001b[0m\u001b[0mhandle\u001b[0m\u001b[0;34m)\u001b[0m\u001b[0;34m\u001b[0m\u001b[0;34m\u001b[0m\u001b[0m\n\u001b[1;32m    653\u001b[0m \u001b[0;34m\u001b[0m\u001b[0m\n",
      "\u001b[0;31mFileNotFoundError\u001b[0m: [Errno 2] No such file or directory: 'songs1.xlsx'"
     ]
    }
   ],
   "source": [
    "df1 = pd.read_excel(\"songs1.xlsx\")\n",
    "df2 = pd.read_excel(\"songs2.xlsx\")\n",
    "df3 = pd.read_excel(\"songs3.xlsx\")\n",
    "df4 = pd.read_excel(\"songs4.xlsx\")\n",
    "df5 = pd.read_excel(\"songs5.xlsx\")"
   ]
  },
  {
   "cell_type": "code",
   "execution_count": 6,
   "id": "31a7e7b9-ba5d-48e2-adcc-e1cc71c21b28",
   "metadata": {},
   "outputs": [
    {
     "ename": "NameError",
     "evalue": "name 'df1' is not defined",
     "output_type": "error",
     "traceback": [
      "\u001b[0;31m---------------------------------------------------------------------------\u001b[0m",
      "\u001b[0;31mNameError\u001b[0m                                 Traceback (most recent call last)",
      "\u001b[0;32m<ipython-input-6-4253e323cda8>\u001b[0m in \u001b[0;36m<module>\u001b[0;34m\u001b[0m\n\u001b[0;32m----> 1\u001b[0;31m \u001b[0mdf_concat\u001b[0m \u001b[0;34m=\u001b[0m \u001b[0mpd\u001b[0m\u001b[0;34m.\u001b[0m\u001b[0mconcat\u001b[0m\u001b[0;34m(\u001b[0m\u001b[0;34m[\u001b[0m\u001b[0mdf1\u001b[0m\u001b[0;34m,\u001b[0m \u001b[0mdf2\u001b[0m\u001b[0;34m,\u001b[0m \u001b[0mdf3\u001b[0m\u001b[0;34m,\u001b[0m \u001b[0mdf4\u001b[0m\u001b[0;34m,\u001b[0m \u001b[0mdf5\u001b[0m\u001b[0;34m]\u001b[0m\u001b[0;34m)\u001b[0m\u001b[0;34m\u001b[0m\u001b[0;34m\u001b[0m\u001b[0m\n\u001b[0m",
      "\u001b[0;31mNameError\u001b[0m: name 'df1' is not defined"
     ]
    }
   ],
   "source": [
    "df_concat = pd.concat([df1, df2, df3, df4, df5])"
   ]
  },
  {
   "cell_type": "code",
   "execution_count": 37,
   "id": "82646623-3f5f-4886-8a4d-99500910b9cc",
   "metadata": {},
   "outputs": [],
   "source": [
    "df_concat = pd.read_excel(\"usedata.xlsx\",engine=\"openpyxl\")\n",
    "df_concat = df_concat.drop(columns=\"Unnamed: 0\")"
   ]
  },
  {
   "cell_type": "code",
   "execution_count": 23,
   "id": "24c69bd0-9276-476f-9b49-cbbe723612eb",
   "metadata": {},
   "outputs": [],
   "source": [
    "song_name = df_concat[\"song_name\"]\n",
    "lyrics = df_concat[\"lyrics\"]\n",
    "release_date = df_concat[\"release_date\"]\n",
    "impression = df_concat[\"impression\"]"
   ]
  },
  {
   "cell_type": "code",
   "execution_count": 39,
   "id": "c7cde7ba-1568-4f06-98b5-28f6ec0c0d31",
   "metadata": {},
   "outputs": [],
   "source": [
    "df_concat = df_concat.sort_values(\"release_date\")"
   ]
  },
  {
   "cell_type": "code",
   "execution_count": 11,
   "id": "70378986-0931-443f-8dc0-25c84396ea8e",
   "metadata": {},
   "outputs": [],
   "source": [
    "song_names    = []\n",
    "lyricses      = []\n",
    "release_dates = []\n",
    "impressions   = []"
   ]
  },
  {
   "cell_type": "code",
   "execution_count": 14,
   "id": "5835b2ac-1788-43f1-aa8b-6679f4f76c3e",
   "metadata": {},
   "outputs": [],
   "source": [
    "df_concat = pd.read_excel(\"result.xlsx\", engine=\"openpyxl\")\n",
    "df_concat = df_concat.drop(columns=\"Unnamed: 0\")\n",
    "df_concat = df_concat.sort_values(\"release_date\")\n",
    "# 1986年1月〜2023年8月\n",
    "df_concat = df_concat[267:322393]"
   ]
  },
  {
   "cell_type": "code",
   "execution_count": 51,
   "id": "f56621ba-a90d-47d3-a124-ebb801c6f003",
   "metadata": {},
   "outputs": [],
   "source": [
    "lyrics_list = [i for i in df_concat[\"lyrics\"]]\n",
    "release_date = [i for i in df_concat[\"release_date\"]]\n",
    "release_date_list = []\n",
    "for i in release_date:\n",
    "    release_date_list.append(str(i).replace(\"-\", \"\")[:6])\n",
    "songs_list_4sq = []\n",
    "for i in range(38):\n",
    "    a = []\n",
    "    for j in range(4):\n",
    "        a.append([])\n",
    "    songs_list_4sq.append(a)\n",
    "\n",
    "# 文字列が多すぎるため3次元配列として持てないので配列のインデックス番号で保持。\n",
    "for i, j in enumerate(release_date_list):\n",
    "    year = int(j[:4])\n",
    "    month = int(j[4:])\n",
    "    year_num = year - 1986\n",
    "    month_num = (month-1)//3\n",
    "    songs_list_4sq[year_num][month_num].append(i)"
   ]
  },
  {
   "cell_type": "code",
   "execution_count": 54,
   "id": "298786b1-c220-4bbd-982f-9ee9180815bf",
   "metadata": {},
   "outputs": [],
   "source": [
    "# モデル1データセット 1986〜2000年\n",
    "model1_songs_index = songs_list_4sq[:14]\n",
    "model1_songs_list = lyrics_list[:34296]\n",
    "# モデル2データセット 2000〜2023年\n",
    "model2_songs_index = songs_list_4sq[14:]\n",
    "model2_songs_list = lyrics_list[34296:]\n",
    "# モデル3データセット 1986〜2023年\n",
    "model3_songs_index = songs_list_4sq\n",
    "model3_songs_list = lyrics_list"
   ]
  },
  {
   "cell_type": "code",
   "execution_count": 55,
   "id": "482a58c2-e9a8-41c8-a3cc-ce52fa134b10",
   "metadata": {},
   "outputs": [],
   "source": [
    "from janome.tokenizer import Tokenizer\n",
    "model1_text_file = 'model1_songs_word_lists.txt'\n",
    "model2_text_file = 'model2_songs_word_lists.txt'\n",
    "model3_text_file = 'model3_songs_word_lists.txt'"
   ]
  },
  {
   "cell_type": "code",
   "execution_count": 42,
   "id": "ee0660e0-9702-4bdb-8eea-5468d1470d74",
   "metadata": {},
   "outputs": [],
   "source": [
    "def data_processing(song_lyrics, text_file):\n",
    "    t = Tokenizer()\n",
    "    results = []\n",
    "    for s in song_lyrics:\n",
    "        tokens = t.tokenize(s)\n",
    "        r = []\n",
    "        for tok in tokens:\n",
    "            if tok.base_form == '*':\n",
    "                word = tok.surface\n",
    "            else:\n",
    "                word = tok.base_form\n",
    "            ps = tok.part_of_speech\n",
    "            hinshi = ps.split(',')[0]\n",
    "            if hinshi in ['名詞', '形容詞', '動詞', '副詞']:\n",
    "                r.append(word)\n",
    "        rl = (' '.join(r)).strip()\n",
    "        results.append(rl)\n",
    "    #余計な文字コードの置き換え\n",
    "    result = [i.replace('\\u3000','') for i in results]\n",
    "    with open(text_file, 'w', encoding='utf-8') as fp:\n",
    "        fp.write(\"\\n\".join(result))"
   ]
  },
  {
   "cell_type": "code",
   "execution_count": 79,
   "id": "ba0b51c2-9671-4972-b7db-e0f8b1b86184",
   "metadata": {},
   "outputs": [],
   "source": [
    "data_processing(model1_songs_list, model1_text_file)\n",
    "data_processing(model2_songs_list, model2_text_file)\n",
    "data_processing(model3_songs_list, model3_text_file)"
   ]
  },
  {
   "cell_type": "code",
   "execution_count": 57,
   "id": "d1adb01f-3485-4d89-9988-d37038cf1abe",
   "metadata": {},
   "outputs": [],
   "source": [
    "for i, j in enumerate(songs_list_4sq):\n",
    "    i = i + 1986\n",
    "    for k, l in enumerate(j):\n",
    "        k = k + 1\n",
    "        text_file_name = \"4sq_songs/\" + str(i) + str(k) + \"_songs_word_lists.txt\"\n",
    "        t = Tokenizer()\n",
    "        results = []\n",
    "        for s in l:\n",
    "            tokens = t.tokenize(lyrics_list[s])\n",
    "            r = []\n",
    "            for tok in tokens:\n",
    "                if tok.base_form == '*':\n",
    "                    word = tok.surface\n",
    "                else:\n",
    "                    word = tok.base_form\n",
    "                ps = tok.part_of_speech\n",
    "                hinshi = ps.split(',')[0]\n",
    "                if hinshi in ['名詞', '形容詞', '動詞', '副詞']:\n",
    "                    r.append(word)\n",
    "            rl = (' '.join(r)).strip()\n",
    "            results.append(rl)\n",
    "        #余計な文字コードの置き換え\n",
    "        result = [p.replace('\\u3000','') for p in results]\n",
    "        with open(text_file_name, 'w', encoding='utf-8') as fp:\n",
    "            fp.write(\"\\n\".join(result))"
   ]
  },
  {
   "cell_type": "code",
   "execution_count": 1,
   "id": "1d6dbfa7-e2c0-4a71-ada7-d12e6003b2c7",
   "metadata": {},
   "outputs": [],
   "source": [
    "from collections import defaultdict\n",
    "from gensim.models.keyedvectors import KeyedVectors\n",
    "from sklearn.cluster import KMeans"
   ]
  },
  {
   "cell_type": "code",
   "execution_count": 4,
   "id": "1551c1bb-5adf-4300-bf31-b1825655b006",
   "metadata": {},
   "outputs": [],
   "source": [
    "from gensim.models import word2vec\n",
    "model1_save_bin = 'model1_save.bin'\n",
    "model2_save_bin = 'model2_save.bin'\n",
    "model3_save_bin = 'model3_save.bin'"
   ]
  },
  {
   "cell_type": "code",
   "execution_count": 4,
   "id": "2667863f-6933-4e10-9bdf-dbca7222835e",
   "metadata": {},
   "outputs": [],
   "source": [
    "def model_learning(text_file, save_bin):\n",
    "    sentences = word2vec.Text8Corpus(text_file)\n",
    "    model = word2vec.Word2Vec(sentences, size=200, window=10, hs=0, min_count=1, sg=1)\n",
    "    model.save(save_bin)"
   ]
  },
  {
   "cell_type": "code",
   "execution_count": 8,
   "id": "bb051685-84f8-4660-89a2-a40c2c28d583",
   "metadata": {},
   "outputs": [],
   "source": [
    "model_learning(model1_text_file, model1_save_bin)\n",
    "model_learning(model2_text_file, model2_save_bin)\n",
    "model_learning(model3_text_file, model3_save_bin)"
   ]
  },
  {
   "cell_type": "code",
   "execution_count": 45,
   "id": "d6799048-80d0-4910-9d37-73babea0fbb7",
   "metadata": {},
   "outputs": [],
   "source": [
    "# 1986年から2020年までを学習として2020年から2023年までをテストとする（乖離度の確認）\n",
    "def analyze(save_bin:str):\n",
    "    model = gensim.models.Word2Vec.load(save_bin)\n",
    "    commit = []\n",
    "    for i in range(34):\n",
    "        i = i + 1986\n",
    "        for j in range(4):\n",
    "            result = []\n",
    "            j = j + 1\n",
    "            text_name = '4sq_songs/' + str(i) + str(j) + '_songs_word_lists.txt'\n",
    "            f = open(text_name, 'r', encoding='UTF-8')\n",
    "            data = f.read()\n",
    "            for d in data:\n",
    "                try:\n",
    "                    r = model.wv.get_vector(d)\n",
    "                except:\n",
    "                    try:\n",
    "                        p = model.wv.most_similar(positive=[d][0][0])\n",
    "                        r = model.wv.get_vector(p)\n",
    "                    except:\n",
    "                        continue\n",
    "                result.append(r)\n",
    "            ans = []\n",
    "            for k in range(200):\n",
    "                sum_k = 0\n",
    "                for l in result:\n",
    "                    sum_k = sum_k + l[k]\n",
    "                sum_k = sum_k/len(result)\n",
    "                ans.append(sum_k)\n",
    "            commit.append(ans)\n",
    "    return commit"
   ]
  },
  {
   "cell_type": "code",
   "execution_count": 46,
   "id": "60ec8f24-f39c-4641-9309-2043cf289c82",
   "metadata": {},
   "outputs": [],
   "source": [
    "# 2023年は第二四半期まで\n",
    "def analyze_test(save_bin:str):\n",
    "    model = gensim.models.Word2Vec.load(save_bin)\n",
    "    commit = []\n",
    "    for i in range(4):\n",
    "        i = i + 2020\n",
    "        for j in range(4):\n",
    "            result = []\n",
    "            j = j + 1\n",
    "            if i == 2023 and j == 3:\n",
    "                return commit\n",
    "            text_name = '4sq_songs/' + str(i) + str(j) + '_songs_word_lists.txt'\n",
    "            f = open(text_name, 'r', encoding='UTF-8')\n",
    "            data = f.read()\n",
    "            for d in data:\n",
    "                try:\n",
    "                    r = model.wv.get_vector(d)\n",
    "                except:\n",
    "                    try:\n",
    "                        p = model.wv.most_similar(positive=[d][0][0])\n",
    "                        r = model.wv.get_vector(p)\n",
    "                    except:\n",
    "                        continue\n",
    "                result.append(r)\n",
    "            ans = []\n",
    "            for k in range(200):\n",
    "                sum_k = 0\n",
    "                for l in result:\n",
    "                    sum_k = sum_k + l[k]\n",
    "                sum_k = sum_k/len(result)\n",
    "                ans.append(sum_k)\n",
    "            commit.append(ans)"
   ]
  },
  {
   "cell_type": "code",
   "execution_count": 49,
   "id": "4431d012-3314-488e-be87-3d61262ee70d",
   "metadata": {},
   "outputs": [],
   "source": [
    "model1_explain = analyze(model1_save_bin)\n",
    "model2_explain = analyze(model2_save_bin)\n",
    "model3_explain = analyze(model3_save_bin)"
   ]
  },
  {
   "cell_type": "code",
   "execution_count": 109,
   "id": "2d4affd6-20e6-4248-89c7-51a313681946",
   "metadata": {},
   "outputs": [
    {
     "data": {
      "text/plain": [
       "136"
      ]
     },
     "execution_count": 109,
     "metadata": {},
     "output_type": "execute_result"
    }
   ],
   "source": [
    "len(model1_explain)"
   ]
  },
  {
   "cell_type": "code",
   "execution_count": 50,
   "id": "bfeb94aa-ab53-4bc0-8ec9-2083f85bffd1",
   "metadata": {},
   "outputs": [],
   "source": [
    "model1_explain_test = analyze_test(model1_save_bin)\n",
    "model2_explain_test = analyze_test(model2_save_bin)\n",
    "model3_explain_test = analyze_test(model3_save_bin)"
   ]
  },
  {
   "cell_type": "code",
   "execution_count": 98,
   "id": "43f838e2-bd0f-46f4-ad47-24fb1ad03d77",
   "metadata": {},
   "outputs": [
    {
     "data": {
      "text/plain": [
       "14"
      ]
     },
     "execution_count": 98,
     "metadata": {},
     "output_type": "execute_result"
    }
   ],
   "source": [
    "len(model2_explain_test)"
   ]
  },
  {
   "cell_type": "code",
   "execution_count": 99,
   "id": "6c4ae21d-f90f-407f-aa17-95a6089f04d7",
   "metadata": {},
   "outputs": [],
   "source": [
    "# 日本CPI\n",
    "df_cpi = pd.read_excel(\"purpose_data/cpi.xlsx\", engine=\"openpyxl\", index_col=0)\n",
    "# 年月日\n",
    "cpi_year = df_cpi[\"Unnamed: 8\"][13:655]\n",
    "# 値\n",
    "cpi_value = df_cpi.iloc[13:655,12]"
   ]
  },
  {
   "cell_type": "code",
   "execution_count": 100,
   "id": "828cc3c7-54a3-473f-a75b-7303e8bd8daf",
   "metadata": {},
   "outputs": [],
   "source": [
    "# 1986年第1四半期〜2023年第2四半期\n",
    "cpi_4sq_value = []\n",
    "for i, j in enumerate(cpi_year[192:]):\n",
    "    if i%3 == 0:\n",
    "        a = cpi_value[192+i]\n",
    "    elif i%3 == 1:\n",
    "        a += cpi_value[192+i]\n",
    "    else:\n",
    "        a += cpi_value[192+i]\n",
    "        a = a/3\n",
    "        cpi_4sq_value.append(a)"
   ]
  },
  {
   "cell_type": "code",
   "execution_count": 105,
   "id": "f5cdda12-2a13-45bd-80dc-3fff66e102d0",
   "metadata": {},
   "outputs": [],
   "source": [
    "# 1986~2020\n",
    "cpi_1986_2020 = cpi_4sq_value[:136]\n",
    "cpi_2020_2023 = cpi_4sq_value[136:]"
   ]
  },
  {
   "cell_type": "code",
   "execution_count": 37,
   "id": "5c223398-6f75-481b-9639-326f07e675d1",
   "metadata": {},
   "outputs": [],
   "source": [
    "# 日本経済指標(CI値)\n",
    "# 1985年から月ベースでの調査\n",
    "df_japan_index = pd.read_excel(\"purpose_data/economy_index.xlsx\", engine=\"openpyxl\", index_col=0)\n",
    "# 年\n",
    "japan_index_year = df_japan_index[\"Unnamed: 1\"][77:527]\n",
    "# 月\n",
    "japan_index_month = df_japan_index[\"Unnamed: 2\"][77:527]\n",
    "# 値\n",
    "japan_index_value = df_japan_index[\"ＣＩ指数\"][77:527].tolist()"
   ]
  },
  {
   "cell_type": "code",
   "execution_count": 39,
   "id": "84491e86-afdb-426c-9dbc-5225b1dda387",
   "metadata": {},
   "outputs": [],
   "source": [
    "# 1986年第1四半期〜2023年第2四半期\n",
    "japan_index_4sq_value = []\n",
    "for i, j in enumerate(japan_index_value):\n",
    "    if i%3 == 0:\n",
    "        a = j\n",
    "    elif i%3 == 1:\n",
    "        a += j\n",
    "    else:\n",
    "        a += j\n",
    "        a = a/3\n",
    "        japan_index_4sq_value.append(a)"
   ]
  },
  {
   "cell_type": "code",
   "execution_count": 43,
   "id": "5debe145-72a6-4b93-b630-c6b2693cde59",
   "metadata": {},
   "outputs": [],
   "source": [
    "ci_1986_2020 = japan_index_4sq_value[:136]\n",
    "ci_2020_2023 = japan_index_4sq_value[136:]"
   ]
  },
  {
   "cell_type": "code",
   "execution_count": 162,
   "id": "522ea692-a7ac-4820-82fc-670ddb0f1e39",
   "metadata": {},
   "outputs": [],
   "source": [
    "# 日本GDP\n",
    "df_gdp = pd.read_excel(\"purpose_data/GDP_4sq.xlsx\", engine=\"openpyxl\")\n",
    "# 年四半期\n",
    "gdp_4sq = df_gdp[\"name1\"][7:124]\n",
    "# 値\n",
    "gdp_4sq_value = df_gdp[\"name2\"][7:124]\n",
    "gdp_list = []\n",
    "for p in gdp_4sq_value:\n",
    "    gdp_list.append(p)"
   ]
  },
  {
   "cell_type": "code",
   "execution_count": 166,
   "id": "1508419b-6f3f-48d6-948d-482e06a2d2eb",
   "metadata": {},
   "outputs": [],
   "source": [
    "gdp_4sq_1994_2020 = gdp_list[:104]\n",
    "gdp_4sq_2020_2023 = gdp_list[104:]"
   ]
  },
  {
   "cell_type": "code",
   "execution_count": 174,
   "id": "a309db79-efcb-4406-b661-720594a28cbf",
   "metadata": {},
   "outputs": [
    {
     "data": {
      "text/plain": [
       "104"
      ]
     },
     "execution_count": 174,
     "metadata": {},
     "output_type": "execute_result"
    }
   ],
   "source": [
    "# 1994年第1四半期〜2023年第1四半期\n",
    "len(gdp_4sq_1994_2020)"
   ]
  },
  {
   "cell_type": "code",
   "execution_count": 3,
   "id": "cea2f2fb-97fa-4b42-b5fa-b81b09694ce4",
   "metadata": {},
   "outputs": [],
   "source": [
    "# 日経平均株価\n",
    "df_japan_ave = pd.read_excel(\"purpose_data/japan_avarage.xlsx\", engine=\"openpyxl\")\n",
    "# 年月日\n",
    "japan_ave_year = df_japan_ave[\"データ日付\"][:282]\n",
    "# 終わり値\n",
    "japan_ave_index = df_japan_ave[\"終値\"][:282]"
   ]
  },
  {
   "cell_type": "code",
   "execution_count": 161,
   "id": "a7746bba-6414-419c-b08c-b1c858589f42",
   "metadata": {},
   "outputs": [],
   "source": [
    "# 2000年第1四半期〜2023年第2四半期\n",
    "japan_ave_index_4sq = []\n",
    "for i, j in enumerate(japan_ave_year):\n",
    "    if i%3 == 0:\n",
    "        a = japan_ave_index[i]\n",
    "    elif i%3 == 1:\n",
    "        a += japan_ave_index[i]\n",
    "    else:\n",
    "        a += japan_ave_index[i]\n",
    "        a = a/3\n",
    "        japan_ave_index_4sq.append(a)"
   ]
  },
  {
   "cell_type": "markdown",
   "id": "b2efae95-7873-4ddb-be61-1ba1ca1c53c2",
   "metadata": {},
   "source": [
    "## 重回帰分析"
   ]
  },
  {
   "cell_type": "code",
   "execution_count": 73,
   "id": "4cfffc7d-656d-4220-8baf-cc91b55140ec",
   "metadata": {},
   "outputs": [],
   "source": [
    "value_list = model1_explain"
   ]
  },
  {
   "cell_type": "code",
   "execution_count": 74,
   "id": "b30c62bd-3c00-485e-b97e-e7a4df2e22de",
   "metadata": {},
   "outputs": [
    {
     "data": {
      "text/plain": [
       "136"
      ]
     },
     "execution_count": 74,
     "metadata": {},
     "output_type": "execute_result"
    }
   ],
   "source": [
    "len(value_list)"
   ]
  },
  {
   "cell_type": "code",
   "execution_count": 75,
   "id": "ba3ba2d0-cde4-40d8-937b-b5b8cd0e90ad",
   "metadata": {},
   "outputs": [],
   "source": [
    "import numpy as np\n",
    "value_list_T = np.array(value_list).T"
   ]
  },
  {
   "cell_type": "code",
   "execution_count": 76,
   "id": "7826dd11-c448-4e38-ad7f-4bcfaa69ee91",
   "metadata": {},
   "outputs": [],
   "source": [
    "# 正規化\n",
    "# 標準化\n",
    "# 最大最小はすでに決まっているので標準化のみ\n",
    "std_value_list_T = []\n",
    "for i in value_list_T:\n",
    "    a = (i-i.mean())/i.std(ddof=0)\n",
    "    std_value_list_T.append(a)"
   ]
  },
  {
   "cell_type": "code",
   "execution_count": 77,
   "id": "1bbd2e5d-7e25-4001-b651-02cbd71401ca",
   "metadata": {},
   "outputs": [],
   "source": [
    "y = ci_1986_2020"
   ]
  },
  {
   "cell_type": "code",
   "execution_count": 78,
   "id": "afadef08-5c1a-42e7-8c8d-5f620481136f",
   "metadata": {},
   "outputs": [],
   "source": [
    "from sklearn.linear_model import LinearRegression"
   ]
  },
  {
   "cell_type": "code",
   "execution_count": 79,
   "id": "7f662a9b-44c5-48b2-bcf1-291597aa41e6",
   "metadata": {},
   "outputs": [
    {
     "name": "stdout",
     "output_type": "stream",
     "text": [
      "[-26.52764202  43.5545173    6.63122866 -22.61185456  13.65888712\n",
      "  18.86550851  16.64970995 -22.75474753   2.42538278  -1.6100143\n",
      "   2.8235949    2.85039971 -23.30532079  -0.13130902  -8.34734382\n",
      "   9.10295301 -37.83399867 -35.37664145 -16.08667775 -25.80636191\n",
      "   5.00621541  10.43024133   6.27318884  -3.99809023 -30.38602843\n",
      "  -2.36142878  -6.77212128   1.78271698  -5.01498671  14.44072932\n",
      " -25.58541229 -24.53457258  -5.0231887  -10.09488363  11.75658573\n",
      " -25.64476321  -3.71077838 -20.08885407 -37.50848378 -33.9325374\n",
      "   7.6020846   -4.77357324 -10.76532947 -17.73300018   5.98485892\n",
      "   5.5650849    3.95950325  -0.22383942   8.15570972  11.52945409\n",
      " -17.87105149 -21.20446811  -1.73978292   5.31146416  -3.62320451\n",
      " -38.47455234  33.45539148 -13.65341936   3.96955264  20.24611417\n",
      "  10.47991932 -31.53579296   3.18549417 -13.213505    -0.36340479\n",
      "  -3.62958329  38.23245301   5.73839709   7.62330918  -5.20557774\n",
      "  -0.58192562   9.46256034   5.54883206 -55.02554083  -7.75871106\n",
      "  -6.06839564 -26.22081293   4.80440967 -14.26893949  32.42666582\n",
      "  -7.25619991   5.65315378  -2.82686796  -6.94027028  -9.34745972\n",
      "  14.99525181  -8.04226461   1.56873093  23.64606734  48.16443123\n",
      " -18.71246053  -6.47568345  14.0637756   18.35817221 -30.77822742\n",
      "   8.32215792  21.10209498  11.72156971 -23.19271952   2.06794033\n",
      "  -0.1941408  -23.20893738  -6.85796444 -24.65361196 -16.90699649\n",
      "  59.5659737  -12.42196936 -14.20682376   7.296125    -9.23157427\n",
      "   7.27430667 -13.69112992  -2.43531583  -3.42901041   5.39139585\n",
      "  15.11518262  -1.65579699  -8.6801588   -5.18740285 -19.8401539\n",
      "  15.4056246  -21.53126424  10.59983495  27.5865234   16.72748771\n",
      " -13.42463041  -6.03026156  13.99816312 -24.71303343  24.17000929\n",
      "  -1.25830397   5.00761004  18.213264     9.08779339  -5.30821404\n",
      "  15.26720358  17.83635795  20.51799244   6.17384165  -0.28920433\n",
      " -25.09693592  -2.87900029 -16.62894316 -14.70242933 -27.82200741\n",
      "  23.01010655   2.67122514  -7.57736618  38.12179167   1.58306557\n",
      "   1.43250957  -4.49581329 -12.22690983   3.91502894   2.47749108\n",
      " -55.76457011   0.88747515  26.79229764  -6.12646043 -30.4593672\n",
      "   7.97808252   8.53213516  -6.06287368 -25.57058839   7.78496148\n",
      "  -9.83742402 -32.84311621   0.53961283  14.53082437  13.02644409\n",
      "   0.26014138  37.29716578  40.08123945  -6.62197701  25.33856952\n",
      "  25.85110119 -17.0117138   11.30410423  12.29297421   6.85087869\n",
      "  18.06988811  32.26842308 -32.32748379 -16.30404822  -1.54047034\n",
      "  25.49359022  22.50016383  -9.88989213  15.21144184 -18.98215853\n",
      "  -0.38202305  16.6862024  -28.36325431 -28.87276609   8.92198847\n",
      " -28.18076664 -50.95399523  13.98842852  44.13404731  26.13149802]\n",
      "102.75808823529364\n",
      "1.0\n"
     ]
    }
   ],
   "source": [
    "model_lr_std = LinearRegression()\n",
    "x = np.array(std_value_list_T).T\n",
    "model_lr_std.fit(x, y)\n",
    "print(model_lr_std.coef_)\n",
    "print(model_lr_std.intercept_) \n",
    "print(model_lr_std.score(x, y))"
   ]
  },
  {
   "cell_type": "code",
   "execution_count": 164,
   "id": "893e87cc-2ec9-413d-914e-3b91ca7182d6",
   "metadata": {},
   "outputs": [],
   "source": [
    "def test():\n",
    "    a = 1\n",
    "    model3_explain_test"
   ]
  },
  {
   "cell_type": "code",
   "execution_count": 80,
   "id": "c1c6a155-4f6b-49b0-812d-bb0cfedb4394",
   "metadata": {},
   "outputs": [],
   "source": [
    "b = []\n",
    "for i in model1_explain_test[:-1]:\n",
    "    a = 0\n",
    "    for p in range(200):\n",
    "        a += i[p]*model_lr_std.coef_[p]\n",
    "    a += model_lr_std.intercept_\n",
    "    b.append(a)"
   ]
  },
  {
   "cell_type": "code",
   "execution_count": 81,
   "id": "0e55c058-2aaa-4de1-94a1-b3ff8f086f1d",
   "metadata": {},
   "outputs": [
    {
     "data": {
      "text/plain": [
       "13"
      ]
     },
     "execution_count": 81,
     "metadata": {},
     "output_type": "execute_result"
    }
   ],
   "source": [
    "len(b)"
   ]
  },
  {
   "cell_type": "code",
   "execution_count": 82,
   "id": "a58dbf8b-ce99-4d96-b697-98df4cc38230",
   "metadata": {},
   "outputs": [],
   "source": [
    "c = []\n",
    "for i,j in enumerate(b):\n",
    "    c.append(ci_2020_2023[i]-j)"
   ]
  },
  {
   "cell_type": "code",
   "execution_count": 83,
   "id": "bd76cdfb-bb4b-4f46-bb71-327cdf541032",
   "metadata": {},
   "outputs": [
    {
     "data": {
      "text/plain": [
       "[14.12429553121099,\n",
       " 2.8934557079212766,\n",
       " 14.617509852621552,\n",
       " 21.053362804315015,\n",
       " 27.304249256043192,\n",
       " 28.153048217638613,\n",
       " 28.087002343146096,\n",
       " 28.01161911850231,\n",
       " 26.67285318051391,\n",
       " 26.380182670646747,\n",
       " 24.339284319553343,\n",
       " 24.49631755037312,\n",
       " 21.919743442622064]"
      ]
     },
     "execution_count": 83,
     "metadata": {},
     "output_type": "execute_result"
    }
   ],
   "source": [
    "c"
   ]
  },
  {
   "cell_type": "code",
   "execution_count": null,
   "id": "0286ccfd-4ad6-44d1-bdf7-26b9e387ee53",
   "metadata": {},
   "outputs": [],
   "source": [
    "102.75808823529364\n",
    "102.75808823529377\n",
    "102.75808823529378"
   ]
  }
 ],
 "metadata": {
  "kernelspec": {
   "display_name": "Python 3",
   "language": "python",
   "name": "python3"
  },
  "language_info": {
   "codemirror_mode": {
    "name": "ipython",
    "version": 3
   },
   "file_extension": ".py",
   "mimetype": "text/x-python",
   "name": "python",
   "nbconvert_exporter": "python",
   "pygments_lexer": "ipython3",
   "version": "3.6.13"
  }
 },
 "nbformat": 4,
 "nbformat_minor": 5
}
